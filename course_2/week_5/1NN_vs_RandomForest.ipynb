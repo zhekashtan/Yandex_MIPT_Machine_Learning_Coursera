{
 "cells": [
  {
   "cell_type": "code",
   "execution_count": 50,
   "metadata": {},
   "outputs": [],
   "source": [
    "from sklearn import datasets, model_selection, ensemble\n",
    "import numpy as np"
   ]
  },
  {
   "cell_type": "code",
   "execution_count": 2,
   "metadata": {},
   "outputs": [],
   "source": [
    "digits = datasets.load_digits()"
   ]
  },
  {
   "cell_type": "code",
   "execution_count": 5,
   "metadata": {},
   "outputs": [],
   "source": [
    "X_train, X_test, y_train, y_test = model_selection.train_test_split(digits['data'], digits['target'], shuffle=False)"
   ]
  },
  {
   "cell_type": "code",
   "execution_count": 49,
   "metadata": {},
   "outputs": [
    {
     "data": {
      "text/plain": [
       "450"
      ]
     },
     "execution_count": 49,
     "metadata": {},
     "output_type": "execute_result"
    }
   ],
   "source": [
    "y_test.shape[0]"
   ]
  },
  {
   "cell_type": "code",
   "execution_count": 45,
   "metadata": {},
   "outputs": [],
   "source": [
    "# Функция для вычисления евклидовой метрики для векторов numpy\n",
    "def dist(x1, x2):\n",
    "    return sum((x1 - x2)**2)\n",
    "\n",
    "\n",
    "# 1NN классификатор    \n",
    "def oneNN_classifier(X_train, Y_train, X_test):\n",
    "    predictions = []\n",
    "    for x0 in X_test:\n",
    "        predictions.append(sorted([(dist(x0, x), y) for x, y in zip(X_train, Y_train)])[0][1])\n",
    "    return np.array(predictions)"
   ]
  },
  {
   "cell_type": "code",
   "execution_count": 48,
   "metadata": {},
   "outputs": [
    {
     "name": "stdout",
     "output_type": "stream",
     "text": [
      "[3 7 3 3 4 6 6 6 4 9 1 5 0 9 6 2 8 2 0 0 1 7 6 3 2 1 7 4 6 3 1 3 9 1 7 6 8\n",
      " 4 3 1 4 0 5 3 6 9 6 1 7 5 4 4 7 2 8 2 2 5 7 9 5 4 8 8 4 9 0 8 0 1 2 3 4 5\n",
      " 6 7 8 9 0 1 2 3 4 5 6 7 8 9 0 1 2 3 4 5 6 7 8 9 0 9 5 5 6 5 0 9 8 9 8 4 1\n",
      " 7 7 3 5 1 0 0 2 2 7 8 2 0 1 2 6 3 3 7 3 3 4 6 6 6 4 9 1 5 0 9 5 2 8 2 0 0\n",
      " 1 7 6 3 2 1 7 4 6 3 1 3 9 1 7 6 8 4 3 1 4 0 5 3 6 9 6 1 7 5 4 4 7 2 8 2 2\n",
      " 5 7 9 5 4 8 8 4 9 0 9 9 8 0 1 2 3 4 5 6 7 1 9 0 1 2 3 4 5 6 9 0 1 2 3 4 5\n",
      " 6 7 1 9 0 9 5 5 6 5 0 9 8 5 8 4 1 7 7 3 5 1 0 0 2 2 7 8 2 0 1 2 6 3 3 7 7\n",
      " 8 4 6 6 6 9 9 1 5 0 9 5 2 8 0 1 7 6 3 2 1 7 9 6 3 1 9 9 1 7 6 8 4 3 1 4 0\n",
      " 5 3 6 9 6 1 7 5 4 4 7 2 2 5 7 3 5 9 4 5 0 8 9 8 0 1 2 3 4 5 6 7 8 9 0 1 2\n",
      " 3 4 5 6 7 8 9 0 1 2 5 4 5 6 7 8 9 0 9 5 5 6 5 0 9 8 9 8 4 1 7 7 3 5 1 0 0\n",
      " 2 2 7 8 2 0 1 2 6 3 8 7 3 3 4 6 6 6 4 9 1 5 0 9 5 2 8 2 0 0 1 7 6 3 2 1 7\n",
      " 4 6 3 1 3 9 1 7 6 8 4 5 1 4 0 5 3 6 9 6 1 7 5 4 4 7 2 8 2 2 5 7 9 5 4 8 1\n",
      " 4 9 0 8 9 8]\n",
      "0.0377777777778\n"
     ]
    }
   ],
   "source": [
    "predictions = oneNN_classifier(X_train, y_train, X_test)\n",
    "ans1 = float(sum(y_test != predictions)) / y_test.shape[0]\n",
    "print predictions\n",
    "print ans1\n",
    "with open('ans1.txt', 'w') as fout:\n",
    "    fout.write(str(ans1))"
   ]
  },
  {
   "cell_type": "code",
   "execution_count": 51,
   "metadata": {},
   "outputs": [
    {
     "name": "stdout",
     "output_type": "stream",
     "text": [
      "[3 7 3 3 4 6 6 6 4 9 1 5 0 9 6 2 8 2 0 0 1 7 6 3 2 1 7 4 6 3 1 3 9 1 7 6 8\n",
      " 4 3 1 4 0 5 3 6 9 6 1 7 5 4 4 7 2 8 2 2 5 7 9 5 4 8 8 4 9 0 8 0 1 2 3 4 5\n",
      " 6 7 8 9 0 1 2 3 4 5 6 7 8 9 0 1 2 3 4 5 6 7 8 9 0 9 5 5 6 5 0 9 8 9 8 4 1\n",
      " 7 7 3 5 1 0 0 2 2 7 9 2 0 9 2 6 3 3 7 3 3 4 6 6 6 4 9 9 5 0 9 5 2 8 2 0 0\n",
      " 9 7 6 3 2 1 7 4 6 3 1 3 9 1 7 6 8 4 3 9 4 0 5 3 6 9 6 9 7 5 4 4 7 2 8 2 2\n",
      " 5 7 9 5 4 8 8 4 9 0 8 9 8 0 1 2 3 4 5 6 7 1 9 0 1 2 3 4 5 6 9 0 1 2 3 4 5\n",
      " 6 7 8 9 4 9 5 5 6 5 0 9 4 5 8 4 1 7 7 3 5 1 0 0 0 2 7 8 2 0 1 2 6 8 7 7 7\n",
      " 8 4 6 6 6 7 9 1 5 0 9 5 2 8 0 1 7 6 3 2 1 7 7 6 3 1 3 9 1 7 6 8 4 3 1 4 0\n",
      " 5 3 6 9 6 1 7 5 4 4 7 2 2 5 7 8 5 9 4 5 0 8 7 7 0 1 2 3 4 5 6 7 8 9 0 1 2\n",
      " 8 4 5 6 7 8 9 0 1 2 8 4 5 6 7 8 9 0 9 5 5 6 5 0 9 8 9 8 4 1 7 7 3 5 1 0 0\n",
      " 2 2 7 8 2 0 1 2 6 8 8 7 5 8 4 6 6 6 4 9 1 5 0 9 5 2 8 2 0 0 1 7 6 3 2 1 7\n",
      " 4 6 3 1 3 9 1 7 6 8 4 5 1 4 0 5 3 6 9 6 1 7 5 4 4 7 2 8 2 2 5 7 9 5 4 8 1\n",
      " 4 9 0 8 9 8]\n",
      "0.0688888888889\n"
     ]
    }
   ],
   "source": [
    "rf_classifier = ensemble.RandomForestClassifier(n_estimators=1000)\n",
    "rf_classifier.fit(X_train, y_train)\n",
    "predictions = rf_classifier.predict(X_test)\n",
    "ans2 = float(sum(y_test != predictions)) / y_test.shape[0]\n",
    "print predictions\n",
    "print ans2\n",
    "with open('ans2.txt', 'w') as fout:\n",
    "    fout.write(str(ans2))"
   ]
  },
  {
   "cell_type": "code",
   "execution_count": null,
   "metadata": {},
   "outputs": [],
   "source": []
  }
 ],
 "metadata": {
  "kernelspec": {
   "display_name": "Python 2",
   "language": "python",
   "name": "python2"
  },
  "language_info": {
   "codemirror_mode": {
    "name": "ipython",
    "version": 2
   },
   "file_extension": ".py",
   "mimetype": "text/x-python",
   "name": "python",
   "nbconvert_exporter": "python",
   "pygments_lexer": "ipython2",
   "version": "2.7.16"
  }
 },
 "nbformat": 4,
 "nbformat_minor": 2
}
