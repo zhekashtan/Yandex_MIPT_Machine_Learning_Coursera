{
 "cells": [
  {
   "cell_type": "code",
   "execution_count": 1,
   "metadata": {},
   "outputs": [],
   "source": [
    "from math import sin, exp"
   ]
  },
  {
   "cell_type": "code",
   "execution_count": 2,
   "metadata": {},
   "outputs": [],
   "source": [
    "def f(x):\n",
    "    return sin(x/5.)*exp(x/10.) + 5*exp(-x/2.)"
   ]
  },
  {
   "cell_type": "code",
   "execution_count": 4,
   "metadata": {},
   "outputs": [],
   "source": [
    "import matplotlib.pyplot as plt\n",
    "import numpy as np"
   ]
  },
  {
   "cell_type": "code",
   "execution_count": 24,
   "metadata": {},
   "outputs": [
    {
     "data": {
      "text/plain": [
       "array([ 3.25221687e+00,  3.12835399e+00,  3.01206714e+00,  2.90299951e+00,\n",
       "        2.80081118e+00,  2.70517826e+00,  2.61579210e+00,  2.53235853e+00,\n",
       "        2.45459713e+00,  2.38224055e+00,  2.31503384e+00,  2.25273387e+00,\n",
       "        2.19510867e+00,  2.14193694e+00,  2.09300744e+00,  2.04811856e+00,\n",
       "        2.00707777e+00,  1.96970118e+00,  1.93581311e+00,  1.90524569e+00,\n",
       "        1.87783842e+00,  1.85343780e+00,  1.83189701e+00,  1.81307554e+00,\n",
       "        1.79683886e+00,  1.78305813e+00,  1.77160989e+00,  1.76237578e+00,\n",
       "        1.75524231e+00,  1.75010055e+00,  1.74684595e+00,  1.74537806e+00,\n",
       "        1.74560034e+00,  1.74741997e+00,  1.75074761e+00,  1.75549726e+00,\n",
       "        1.76158605e+00,  1.76893408e+00,  1.77746429e+00,  1.78710226e+00,\n",
       "        1.79777610e+00,  1.80941632e+00,  1.82195565e+00,  1.83532898e+00,\n",
       "        1.84947321e+00,  1.86432715e+00,  1.87983140e+00,  1.89592828e+00,\n",
       "        1.91256169e+00,  1.92967706e+00,  1.94722128e+00,  1.96514256e+00,\n",
       "        1.98339041e+00,  2.00191553e+00,  2.02066978e+00,  2.03960608e+00,\n",
       "        2.05867839e+00,  2.07784159e+00,  2.09705151e+00,  2.11626482e+00,\n",
       "        2.13543898e+00,  2.15453224e+00,  2.17350357e+00,  2.19231261e+00,\n",
       "        2.21091966e+00,  2.22928563e+00,  2.24737201e+00,  2.26514084e+00,\n",
       "        2.28255469e+00,  2.29957661e+00,  2.31617016e+00,  2.33229931e+00,\n",
       "        2.34792850e+00,  2.36302256e+00,  2.37754673e+00,  2.39146662e+00,\n",
       "        2.40474822e+00,  2.41735787e+00,  2.42926225e+00,  2.44042840e+00,\n",
       "        2.45082365e+00,  2.46041567e+00,  2.46917245e+00,  2.47706227e+00,\n",
       "        2.48405374e+00,  2.49011575e+00,  2.49521751e+00,  2.49932850e+00,\n",
       "        2.50241853e+00,  2.50445770e+00,  2.50541641e+00,  2.50526537e+00,\n",
       "        2.50397560e+00,  2.50151843e+00,  2.49786550e+00,  2.49298880e+00,\n",
       "        2.48686063e+00,  2.47945363e+00,  2.47074078e+00,  2.46069543e+00,\n",
       "        2.44929128e+00,  2.43650241e+00,  2.42230328e+00,  2.40666873e+00,\n",
       "        2.38957402e+00,  2.37099482e+00,  2.35090722e+00,  2.32928777e+00,\n",
       "        2.30611345e+00,  2.28136171e+00,  2.25501050e+00,  2.22703823e+00,\n",
       "        2.19742385e+00,  2.16614681e+00,  2.13318711e+00,  2.09852530e+00,\n",
       "        2.06214251e+00,  2.02402043e+00,  1.98414137e+00,  1.94248826e+00,\n",
       "        1.89904466e+00,  1.85379478e+00,  1.80672350e+00,  1.75781638e+00,\n",
       "        1.70705970e+00,  1.65444046e+00,  1.59994638e+00,  1.54356596e+00,\n",
       "        1.48528848e+00,  1.42510398e+00,  1.36300335e+00,  1.29897829e+00,\n",
       "        1.23302137e+00,  1.16512601e+00,  1.09528654e+00,  1.02349816e+00,\n",
       "        9.49757033e-01,  8.74060248e-01,  7.96405859e-01,  7.16792904e-01,\n",
       "        6.35221420e-01,  5.51692463e-01,  4.66208129e-01,  3.78771569e-01,\n",
       "        2.89387007e-01,  1.98059764e-01,  1.04796269e-01,  9.60408211e-03,\n",
       "       -8.75080891e-02, -1.86530372e-01, -2.87451712e-01, -3.90259853e-01,\n",
       "       -4.94941322e-01, -6.01481412e-01, -7.09864165e-01, -8.20072354e-01,\n",
       "       -9.32087471e-01, -1.04588971e+00, -1.16145793e+00, -1.27876970e+00,\n",
       "       -1.39780121e+00, -1.51852729e+00, -1.64092142e+00, -1.76495566e+00,\n",
       "       -1.89060070e+00, -2.01782579e+00, -2.14659878e+00, -2.27688604e+00,\n",
       "       -2.40865253e+00, -2.54186172e+00, -2.67647563e+00, -2.81245477e+00,\n",
       "       -2.94975817e+00, -3.08834336e+00, -3.22816637e+00, -3.36918167e+00,\n",
       "       -3.51134226e+00, -3.65459956e+00, -3.79890348e+00, -3.94420236e+00,\n",
       "       -4.09044301e+00, -4.23757069e+00, -4.38552907e+00, -4.53426030e+00,\n",
       "       -4.68370494e+00, -4.83380199e+00, -4.98448889e+00, -5.13570153e+00,\n",
       "       -5.28737420e+00, -5.43943966e+00, -5.59182909e+00, -5.74447214e+00,\n",
       "       -5.89729688e+00, -6.05022984e+00, -6.20319603e+00, -6.35611889e+00,\n",
       "       -6.50892037e+00, -6.66152087e+00, -6.81383931e+00, -6.96579310e+00,\n",
       "       -7.11729817e+00, -7.26826896e+00, -7.41861846e+00, -7.56825823e+00,\n",
       "       -7.71709838e+00, -7.86504761e+00, -8.01201323e+00, -8.15790118e+00,\n",
       "       -8.30261603e+00, -8.44606101e+00, -8.58813805e+00, -8.72874779e+00,\n",
       "       -8.86778958e+00, -9.00516156e+00, -9.14076062e+00, -9.27448249e+00,\n",
       "       -9.40622173e+00, -9.53587177e+00, -9.66332495e+00, -9.78847252e+00,\n",
       "       -9.91120472e+00, -1.00314108e+01, -1.01489790e+01, -1.02637967e+01,\n",
       "       -1.03757504e+01, -1.04847256e+01, -1.05906072e+01, -1.06932792e+01,\n",
       "       -1.07926249e+01, -1.08885270e+01, -1.09808675e+01, -1.10695277e+01,\n",
       "       -1.11543887e+01, -1.12353308e+01, -1.13122339e+01, -1.13849776e+01,\n",
       "       -1.14534412e+01, -1.15175036e+01, -1.15770436e+01, -1.16319398e+01,\n",
       "       -1.16820706e+01, -1.17273144e+01, -1.17675497e+01, -1.18026549e+01,\n",
       "       -1.18325088e+01, -1.18569902e+01, -1.18759781e+01, -1.18893521e+01,\n",
       "       -1.18969919e+01, -1.18987778e+01, -1.18945907e+01, -1.18843121e+01,\n",
       "       -1.18678241e+01, -1.18450096e+01, -1.18157523e+01, -1.17799367e+01,\n",
       "       -1.17374487e+01, -1.16881747e+01, -1.16320026e+01, -1.15688214e+01,\n",
       "       -1.14985214e+01, -1.14209944e+01, -1.13361334e+01, -1.12438332e+01,\n",
       "       -1.11439902e+01, -1.10365023e+01, -1.09212694e+01, -1.07981932e+01,\n",
       "       -1.06671775e+01, -1.05281280e+01, -1.03809527e+01, -1.02255617e+01,\n",
       "       -1.00618676e+01, -9.88978526e+00, -9.70923213e+00, -9.52012829e+00,\n",
       "       -9.32239650e+00, -9.11596232e+00, -8.90075421e+00, -8.67670361e+00,\n",
       "       -8.44374503e+00, -8.20181616e+00, -7.95085798e+00, -7.69081482e+00,\n",
       "       -7.42163447e+00, -7.14326829e+00, -6.85567130e+00, -6.55880225e+00,\n",
       "       -6.25262377e+00, -5.93710241e+00])"
      ]
     },
     "execution_count": 24,
     "metadata": {},
     "output_type": "execute_result"
    }
   ],
   "source": [
    "x = np.arange(1, 30, 0.1)\n",
    "y = np.array(list(f(x0) for x0 in x))\n",
    "y"
   ]
  },
  {
   "cell_type": "code",
   "execution_count": 25,
   "metadata": {},
   "outputs": [
    {
     "data": {
      "image/png": "[encoded data removed]",
      "text/plain": [
       "<Figure size 432x288 with 1 Axes>"
      ]
     },
     "metadata": {
      "needs_background": "light"
     },
     "output_type": "display_data"
    }
   ],
   "source": [
    "plt.plot(x, y)\n",
    "plt.show()"
   ]
  },
  {
   "cell_type": "markdown",
   "metadata": {},
   "source": [
    "# exercise 1"
   ]
  },
  {
   "cell_type": "code",
   "execution_count": 28,
   "metadata": {},
   "outputs": [],
   "source": [
    "import scipy.optimize as opt"
   ]
  },
  {
   "cell_type": "code",
   "execution_count": 46,
   "metadata": {},
   "outputs": [
    {
     "data": {
      "text/plain": [
       "'1.75 -11.9'"
      ]
     },
     "execution_count": 46,
     "metadata": {},
     "output_type": "execute_result"
    }
   ],
   "source": [
    "min1 = opt.minimize(f, 2, method='BFGS')\n",
    "min2 = opt.minimize(f, 30, method='BFGS')\n",
    "min_list = map(lambda x: round(x, 2), [min1['fun'], min2['fun']])\n",
    "answer = ' '.join(map(str, min_list))\n",
    "answer"
   ]
  },
  {
   "cell_type": "code",
   "execution_count": 47,
   "metadata": {},
   "outputs": [],
   "source": [
    "file_answer = open('ex1_answer.txt', 'w')\n",
    "file_answer.write(answer)\n",
    "file_answer.close()"
   ]
  },
  {
   "cell_type": "markdown",
   "metadata": {},
   "source": [
    "# exercise 2"
   ]
  },
  {
   "cell_type": "code",
   "execution_count": 54,
   "metadata": {},
   "outputs": [
    {
     "name": "stdout",
     "output_type": "stream",
     "text": [
      "-11.9\n"
     ]
    }
   ],
   "source": [
    "bounds = [(1, 30)]\n",
    "answer = round(opt.differential_evolution(f, bounds)['fun'], 2)\n",
    "print answer\n",
    "file_answer = open('ex2_answer.txt', 'w')\n",
    "file_answer.write(str(answer))\n",
    "file_answer.close()"
   ]
  },
  {
   "cell_type": "markdown",
   "metadata": {},
   "source": [
    "# exercise 3"
   ]
  },
  {
   "cell_type": "code",
   "execution_count": 55,
   "metadata": {},
   "outputs": [],
   "source": [
    "def h(x):\n",
    "    return int(f(x))"
   ]
  },
  {
   "cell_type": "code",
   "execution_count": 57,
   "metadata": {},
   "outputs": [],
   "source": [
    "y = map(h, x)"
   ]
  },
  {
   "cell_type": "code",
   "execution_count": 58,
   "metadata": {},
   "outputs": [
    {
     "data": {
      "image/png": "[encoded data removed]",
      "text/plain": [
       "<Figure size 432x288 with 1 Axes>"
      ]
     },
     "metadata": {
      "needs_background": "light"
     },
     "output_type": "display_data"
    }
   ],
   "source": [
    "plt.plot(x, y)\n",
    "plt.show()"
   ]
  },
  {
   "cell_type": "code",
   "execution_count": 62,
   "metadata": {},
   "outputs": [
    {
     "name": "stdout",
     "output_type": "stream",
     "text": [
      "      fun: -5\n",
      " hess_inv: array([[1]])\n",
      "      jac: array([0.])\n",
      "  message: 'Optimization terminated successfully.'\n",
      "     nfev: 3\n",
      "      nit: 0\n",
      "     njev: 1\n",
      "   status: 0\n",
      "  success: True\n",
      "        x: array([30.])\n"
     ]
    },
    {
     "data": {
      "text/plain": [
       "-5"
      ]
     },
     "execution_count": 62,
     "metadata": {},
     "output_type": "execute_result"
    }
   ],
   "source": [
    "min1 = opt.minimize(h, 30, method='BFGS')\n",
    "print min1\n",
    "answer1 = min1['fun']\n",
    "answer1"
   ]
  },
  {
   "cell_type": "code",
   "execution_count": 65,
   "metadata": {},
   "outputs": [
    {
     "data": {
      "text/plain": [
       "-11.0"
      ]
     },
     "execution_count": 65,
     "metadata": {},
     "output_type": "execute_result"
    }
   ],
   "source": [
    "min2 = opt.differential_evolution(h, bounds)\n",
    "answer2 = min2['fun']\n",
    "answer2"
   ]
  },
  {
   "cell_type": "code",
   "execution_count": 66,
   "metadata": {},
   "outputs": [],
   "source": [
    "answer = str(answer1) + ' ' + str(answer2)\n",
    "file_answer = open('ex3_answer.txt', 'w')\n",
    "file_answer.write(answer)\n",
    "file_answer.close()"
   ]
  },
  {
   "cell_type": "code",
   "execution_count": null,
   "metadata": {},
   "outputs": [],
   "source": []
  }
 ],
 "metadata": {
  "kernelspec": {
   "display_name": "Python 2",
   "language": "python",
   "name": "python2"
  },
  "language_info": {
   "codemirror_mode": {
    "name": "ipython",
    "version": 2
   },
   "file_extension": ".py",
   "mimetype": "text/x-python",
   "name": "python",
   "nbconvert_exporter": "python",
   "pygments_lexer": "ipython2",
   "version": "2.7.16"
  }
 },
 "nbformat": 4,
 "nbformat_minor": 2
}
