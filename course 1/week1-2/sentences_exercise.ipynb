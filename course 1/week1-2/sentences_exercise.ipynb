{
 "cells": [
  {
   "cell_type": "code",
   "execution_count": 4,
   "metadata": {},
   "outputs": [],
   "source": [
    "file_obj = open('sentences.txt', 'r')"
   ]
  },
  {
   "cell_type": "code",
   "execution_count": 5,
   "metadata": {},
   "outputs": [],
   "source": [
    "data_list = file_obj.readlines()"
   ]
  },
  {
   "cell_type": "code",
   "execution_count": 6,
   "metadata": {},
   "outputs": [
    {
     "name": "stdout",
     "output_type": "stream",
     "text": [
      "['In comparison to dogs, cats have not undergone major changes during the domestication process.\\n', 'As cat simply catenates streams of bytes, it can be also used to concatenate binary files, where it will just concatenate sequence of bytes.\\n', 'A common interactive use of cat for a single file is to output the content of a file to standard output.\\n', 'Cats can hear sounds too faint or too high in frequency for human ears, such as those made by mice and other small animals.\\n', 'In one, people deliberately tamed cats in a process of artificial selection, as they were useful predators of vermin.\\n', 'The domesticated cat and its closest wild ancestor are both diploid organisms that possess 38 chromosomes and roughly 20,000 genes.\\n', 'Domestic cats are similar in size to the other members of the genus Felis, typically weighing between 4 and 5 kg (8.8 and 11.0 lb).\\n', 'However, if the output is piped or redirected, cat is unnecessary.\\n', 'cat with one named file is safer where human error is a concern - one wrong use of the default redirection symbol \">\" instead of \"<\" (often adjacent on keyboards) may permanently delete the file you were just needing to read.\\n', 'In terms of legibility, a sequence of commands starting with cat and connected by pipes has a clear left-to-right flow of information.\\n', 'Cat command is one of the basic commands that you learned when you started in the Unix / Linux world.\\n', 'Using cat command, the lines received from stdin can be redirected to a new file using redirection symbols.\\n', 'When you type simply cat command without any arguments, it just receives the stdin content and displays it in the stdout.\\n', 'Leopard was released on October 26, 2007 as the successor of Tiger (version 10.4), and is available in two editions.\\n', 'According to Apple, Leopard contains over 300 changes and enhancements over its predecessor, Mac OS X Tiger.\\n', 'As of Mid 2010, some Apple computers have firmware factory installed which will no longer allow installation of Mac OS X Leopard.\\n', 'Since Apple moved to using Intel processors in their computers, the OSx86 community has developed and now also allows Mac OS X Tiger and later releases to be installed on non-Apple x86-based computers.\\n', \"OS X Mountain Lion was released on July 25, 2012 for purchase and download through Apple's Mac App Store, as part of a switch to releasing OS X versions online and every year.\\n\", 'Apple has released a small patch for the three most recent versions of Safari running on OS X Yosemite, Mavericks, and Mountain Lion.\\n', 'The Mountain Lion release marks the second time Apple has offered an incremental upgrade, rather than releasing a new cat entirely.\\n', \"Mac OS X Mountain Lion installs in place, so you won't need to create a separate disk or run the installation off an external drive.\\n\", \"The fifth major update to Mac OS X, Leopard, contains such a mountain of features - more than 300 by Apple's count.\\n\"]\n"
     ]
    }
   ],
   "source": [
    "print data_list"
   ]
  },
  {
   "cell_type": "code",
   "execution_count": 7,
   "metadata": {},
   "outputs": [],
   "source": [
    "file_obj.close()"
   ]
  },
  {
   "cell_type": "code",
   "execution_count": 8,
   "metadata": {},
   "outputs": [
    {
     "name": "stdout",
     "output_type": "stream",
     "text": [
      "['In comparison to dogs, cats have not undergone major changes during the domestication process.\\n', 'As cat simply catenates streams of bytes, it can be also used to concatenate binary files, where it will just concatenate sequence of bytes.\\n', 'A common interactive use of cat for a single file is to output the content of a file to standard output.\\n', 'Cats can hear sounds too faint or too high in frequency for human ears, such as those made by mice and other small animals.\\n', 'In one, people deliberately tamed cats in a process of artificial selection, as they were useful predators of vermin.\\n', 'The domesticated cat and its closest wild ancestor are both diploid organisms that possess 38 chromosomes and roughly 20,000 genes.\\n', 'Domestic cats are similar in size to the other members of the genus Felis, typically weighing between 4 and 5 kg (8.8 and 11.0 lb).\\n', 'However, if the output is piped or redirected, cat is unnecessary.\\n', 'cat with one named file is safer where human error is a concern - one wrong use of the default redirection symbol \">\" instead of \"<\" (often adjacent on keyboards) may permanently delete the file you were just needing to read.\\n', 'In terms of legibility, a sequence of commands starting with cat and connected by pipes has a clear left-to-right flow of information.\\n', 'Cat command is one of the basic commands that you learned when you started in the Unix / Linux world.\\n', 'Using cat command, the lines received from stdin can be redirected to a new file using redirection symbols.\\n', 'When you type simply cat command without any arguments, it just receives the stdin content and displays it in the stdout.\\n', 'Leopard was released on October 26, 2007 as the successor of Tiger (version 10.4), and is available in two editions.\\n', 'According to Apple, Leopard contains over 300 changes and enhancements over its predecessor, Mac OS X Tiger.\\n', 'As of Mid 2010, some Apple computers have firmware factory installed which will no longer allow installation of Mac OS X Leopard.\\n', 'Since Apple moved to using Intel processors in their computers, the OSx86 community has developed and now also allows Mac OS X Tiger and later releases to be installed on non-Apple x86-based computers.\\n', \"OS X Mountain Lion was released on July 25, 2012 for purchase and download through Apple's Mac App Store, as part of a switch to releasing OS X versions online and every year.\\n\", 'Apple has released a small patch for the three most recent versions of Safari running on OS X Yosemite, Mavericks, and Mountain Lion.\\n', 'The Mountain Lion release marks the second time Apple has offered an incremental upgrade, rather than releasing a new cat entirely.\\n', \"Mac OS X Mountain Lion installs in place, so you won't need to create a separate disk or run the installation off an external drive.\\n\", \"The fifth major update to Mac OS X, Leopard, contains such a mountain of features - more than 300 by Apple's count.\\n\"]\n"
     ]
    }
   ],
   "source": [
    "print data_list"
   ]
  },
  {
   "cell_type": "code",
   "execution_count": 9,
   "metadata": {},
   "outputs": [
    {
     "name": "stdout",
     "output_type": "stream",
     "text": [
      "['in comparison to dogs, cats have not undergone major changes during the domestication process.', 'as cat simply catenates streams of bytes, it can be also used to concatenate binary files, where it will just concatenate sequence of bytes.', 'a common interactive use of cat for a single file is to output the content of a file to standard output.', 'cats can hear sounds too faint or too high in frequency for human ears, such as those made by mice and other small animals.', 'in one, people deliberately tamed cats in a process of artificial selection, as they were useful predators of vermin.', 'the domesticated cat and its closest wild ancestor are both diploid organisms that possess 38 chromosomes and roughly 20,000 genes.', 'domestic cats are similar in size to the other members of the genus felis, typically weighing between 4 and 5 kg (8.8 and 11.0 lb).', 'however, if the output is piped or redirected, cat is unnecessary.', 'cat with one named file is safer where human error is a concern - one wrong use of the default redirection symbol \">\" instead of \"<\" (often adjacent on keyboards) may permanently delete the file you were just needing to read.', 'in terms of legibility, a sequence of commands starting with cat and connected by pipes has a clear left-to-right flow of information.', 'cat command is one of the basic commands that you learned when you started in the unix / linux world.', 'using cat command, the lines received from stdin can be redirected to a new file using redirection symbols.', 'when you type simply cat command without any arguments, it just receives the stdin content and displays it in the stdout.', 'leopard was released on october 26, 2007 as the successor of tiger (version 10.4), and is available in two editions.', 'according to apple, leopard contains over 300 changes and enhancements over its predecessor, mac os x tiger.', 'as of mid 2010, some apple computers have firmware factory installed which will no longer allow installation of mac os x leopard.', 'since apple moved to using intel processors in their computers, the osx86 community has developed and now also allows mac os x tiger and later releases to be installed on non-apple x86-based computers.', \"os x mountain lion was released on july 25, 2012 for purchase and download through apple's mac app store, as part of a switch to releasing os x versions online and every year.\", 'apple has released a small patch for the three most recent versions of safari running on os x yosemite, mavericks, and mountain lion.', 'the mountain lion release marks the second time apple has offered an incremental upgrade, rather than releasing a new cat entirely.', \"mac os x mountain lion installs in place, so you won't need to create a separate disk or run the installation off an external drive.\", \"the fifth major update to mac os x, leopard, contains such a mountain of features - more than 300 by apple's count.\"]\n"
     ]
    }
   ],
   "source": [
    "for i in range(len(data_list)):\n",
    "    data_list[i] = data_list[i].strip().lower()\n",
    "print data_list"
   ]
  },
  {
   "cell_type": "code",
   "execution_count": 13,
   "metadata": {},
   "outputs": [
    {
     "data": {
      "text/plain": [
       "{'a': 33,\n",
       " 'according': 167,\n",
       " 'adjacent': 114,\n",
       " 'allow': 185,\n",
       " 'allows': 196,\n",
       " 'also': 24,\n",
       " 'an': 230,\n",
       " 'ancestor': 77,\n",
       " 'and': 58,\n",
       " 'animals': 61,\n",
       " 'any': 152,\n",
       " 'app': 208,\n",
       " 'apple': 168,\n",
       " 'are': 78,\n",
       " 'arguments': 153,\n",
       " 'artificial': 66,\n",
       " 'as': 14,\n",
       " 'available': 164,\n",
       " 'based': 200,\n",
       " 'basic': 136,\n",
       " 'be': 23,\n",
       " 'between': 95,\n",
       " 'binary': 27,\n",
       " 'both': 79,\n",
       " 'by': 56,\n",
       " 'bytes': 20,\n",
       " 'can': 22,\n",
       " 'cat': 15,\n",
       " 'catenates': 17,\n",
       " 'cats': 4,\n",
       " 'changes': 9,\n",
       " 'chromosomes': 84,\n",
       " 'clear': 130,\n",
       " 'closest': 75,\n",
       " 'command': 135,\n",
       " 'commands': 125,\n",
       " 'common': 34,\n",
       " 'community': 193,\n",
       " 'comparison': 1,\n",
       " 'computers': 178,\n",
       " 'concatenate': 26,\n",
       " 'concern': 107,\n",
       " 'connected': 127,\n",
       " 'contains': 169,\n",
       " 'content': 42,\n",
       " 'count': 253,\n",
       " 'create': 242,\n",
       " 'default': 109,\n",
       " 'delete': 119,\n",
       " 'deliberately': 64,\n",
       " 'developed': 194,\n",
       " 'diploid': 80,\n",
       " 'disk': 244,\n",
       " 'displays': 155,\n",
       " 'dogs': 3,\n",
       " 'domestic': 87,\n",
       " 'domesticated': 73,\n",
       " 'domestication': 12,\n",
       " 'download': 205,\n",
       " 'drive': 248,\n",
       " 'during': 10,\n",
       " 'ears': 52,\n",
       " 'editions': 166,\n",
       " 'enhancements': 171,\n",
       " 'entirely': 235,\n",
       " 'error': 106,\n",
       " 'every': 215,\n",
       " 'external': 247,\n",
       " 'factory': 180,\n",
       " 'faint': 47,\n",
       " 'features': 251,\n",
       " 'felis': 92,\n",
       " 'fifth': 249,\n",
       " 'file': 39,\n",
       " 'files': 28,\n",
       " 'firmware': 179,\n",
       " 'flow': 133,\n",
       " 'for': 37,\n",
       " 'frequency': 50,\n",
       " 'from': 146,\n",
       " 'genes': 86,\n",
       " 'genus': 91,\n",
       " 'has': 129,\n",
       " 'have': 5,\n",
       " 'hear': 44,\n",
       " 'high': 49,\n",
       " 'however': 98,\n",
       " 'human': 51,\n",
       " 'if': 99,\n",
       " 'in': 0,\n",
       " 'incremental': 231,\n",
       " 'information': 134,\n",
       " 'installation': 186,\n",
       " 'installed': 181,\n",
       " 'installs': 236,\n",
       " 'instead': 112,\n",
       " 'intel': 189,\n",
       " 'interactive': 35,\n",
       " 'is': 40,\n",
       " 'it': 21,\n",
       " 'its': 74,\n",
       " 'july': 203,\n",
       " 'just': 31,\n",
       " 'keyboards': 116,\n",
       " 'kg': 96,\n",
       " 'later': 197,\n",
       " 'lb': 97,\n",
       " 'learned': 137,\n",
       " 'left': 131,\n",
       " 'legibility': 124,\n",
       " 'leopard': 157,\n",
       " 'lines': 144,\n",
       " 'linux': 141,\n",
       " 'lion': 202,\n",
       " 'longer': 184,\n",
       " 'mac': 173,\n",
       " 'made': 55,\n",
       " 'major': 8,\n",
       " 'marks': 226,\n",
       " 'mavericks': 224,\n",
       " 'may': 117,\n",
       " 'members': 90,\n",
       " 'mice': 57,\n",
       " 'mid': 176,\n",
       " 'more': 252,\n",
       " 'most': 219,\n",
       " 'mountain': 201,\n",
       " 'moved': 188,\n",
       " 'named': 104,\n",
       " 'need': 241,\n",
       " 'needing': 121,\n",
       " 'new': 148,\n",
       " 'no': 183,\n",
       " 'non': 199,\n",
       " 'not': 6,\n",
       " 'now': 195,\n",
       " 'october': 160,\n",
       " 'of': 19,\n",
       " 'off': 246,\n",
       " 'offered': 229,\n",
       " 'often': 113,\n",
       " 'on': 115,\n",
       " 'one': 62,\n",
       " 'online': 214,\n",
       " 'or': 48,\n",
       " 'organisms': 81,\n",
       " 'os': 174,\n",
       " 'osx': 192,\n",
       " 'other': 59,\n",
       " 'output': 41,\n",
       " 'over': 170,\n",
       " 'part': 210,\n",
       " 'patch': 217,\n",
       " 'people': 63,\n",
       " 'permanently': 118,\n",
       " 'piped': 100,\n",
       " 'pipes': 128,\n",
       " 'place': 237,\n",
       " 'possess': 83,\n",
       " 'predators': 71,\n",
       " 'predecessor': 172,\n",
       " 'process': 13,\n",
       " 'processors': 190,\n",
       " 'purchase': 204,\n",
       " 'rather': 233,\n",
       " 'read': 122,\n",
       " 'received': 145,\n",
       " 'receives': 154,\n",
       " 'recent': 220,\n",
       " 'redirected': 101,\n",
       " 'redirection': 110,\n",
       " 'release': 225,\n",
       " 'released': 159,\n",
       " 'releases': 198,\n",
       " 'releasing': 212,\n",
       " 'right': 132,\n",
       " 'roughly': 85,\n",
       " 'run': 245,\n",
       " 'running': 222,\n",
       " 's': 207,\n",
       " 'safari': 221,\n",
       " 'safer': 105,\n",
       " 'second': 227,\n",
       " 'selection': 67,\n",
       " 'separate': 243,\n",
       " 'sequence': 32,\n",
       " 'similar': 88,\n",
       " 'simply': 16,\n",
       " 'since': 187,\n",
       " 'single': 38,\n",
       " 'size': 89,\n",
       " 'small': 60,\n",
       " 'so': 238,\n",
       " 'some': 177,\n",
       " 'sounds': 45,\n",
       " 'standard': 43,\n",
       " 'started': 139,\n",
       " 'starting': 126,\n",
       " 'stdin': 147,\n",
       " 'stdout': 156,\n",
       " 'store': 209,\n",
       " 'streams': 18,\n",
       " 'successor': 161,\n",
       " 'such': 53,\n",
       " 'switch': 211,\n",
       " 'symbol': 111,\n",
       " 'symbols': 149,\n",
       " 't': 240,\n",
       " 'tamed': 65,\n",
       " 'terms': 123,\n",
       " 'than': 234,\n",
       " 'that': 82,\n",
       " 'the': 11,\n",
       " 'their': 191,\n",
       " 'they': 68,\n",
       " 'those': 54,\n",
       " 'three': 218,\n",
       " 'through': 206,\n",
       " 'tiger': 162,\n",
       " 'time': 228,\n",
       " 'to': 2,\n",
       " 'too': 46,\n",
       " 'two': 165,\n",
       " 'type': 150,\n",
       " 'typically': 93,\n",
       " 'undergone': 7,\n",
       " 'unix': 140,\n",
       " 'unnecessary': 102,\n",
       " 'update': 250,\n",
       " 'upgrade': 232,\n",
       " 'use': 36,\n",
       " 'used': 25,\n",
       " 'useful': 70,\n",
       " 'using': 143,\n",
       " 'vermin': 72,\n",
       " 'version': 163,\n",
       " 'versions': 213,\n",
       " 'was': 158,\n",
       " 'weighing': 94,\n",
       " 'were': 69,\n",
       " 'when': 138,\n",
       " 'where': 29,\n",
       " 'which': 182,\n",
       " 'wild': 76,\n",
       " 'will': 30,\n",
       " 'with': 103,\n",
       " 'without': 151,\n",
       " 'won': 239,\n",
       " 'world': 142,\n",
       " 'wrong': 108,\n",
       " 'x': 175,\n",
       " 'year': 216,\n",
       " 'yosemite': 223,\n",
       " 'you': 120}"
      ]
     },
     "execution_count": 13,
     "metadata": {},
     "output_type": "execute_result"
    }
   ],
   "source": [
    "import re\n",
    "words_dict = {}\n",
    "i = 0\n",
    "for sentence in data_list:\n",
    "    words_list = re.split('[^a-z]', sentence)\n",
    "    for word in words_list:\n",
    "        if not word in words_dict and word != '':\n",
    "            words_dict[word] = i\n",
    "            i += 1\n",
    "words_dict"
   ]
  },
  {
   "cell_type": "code",
   "execution_count": 17,
   "metadata": {},
   "outputs": [],
   "source": [
    "import numpy as np"
   ]
  },
  {
   "cell_type": "code",
   "execution_count": 18,
   "metadata": {},
   "outputs": [
    {
     "data": {
      "text/plain": [
       "254"
      ]
     },
     "execution_count": 18,
     "metadata": {},
     "output_type": "execute_result"
    }
   ],
   "source": [
    "len(words_dict)"
   ]
  },
  {
   "cell_type": "code",
   "execution_count": 26,
   "metadata": {},
   "outputs": [
    {
     "data": {
      "text/plain": [
       "array([[0., 0., 0., ..., 0., 0., 0.],\n",
       "       [0., 0., 0., ..., 0., 0., 0.],\n",
       "       [0., 0., 0., ..., 0., 0., 0.],\n",
       "       ...,\n",
       "       [0., 0., 0., ..., 0., 0., 0.],\n",
       "       [0., 0., 0., ..., 0., 0., 0.],\n",
       "       [0., 0., 0., ..., 0., 0., 0.]])"
      ]
     },
     "execution_count": 26,
     "metadata": {},
     "output_type": "execute_result"
    }
   ],
   "source": [
    "matrix = np.zeros((len(data_list), len(words_dict)))\n",
    "matrix"
   ]
  },
  {
   "cell_type": "code",
   "execution_count": 25,
   "metadata": {},
   "outputs": [
    {
     "data": {
      "text/plain": [
       "array([[1., 1., 1., ..., 0., 0., 0.],\n",
       "       [0., 0., 1., ..., 0., 0., 0.],\n",
       "       [0., 0., 2., ..., 0., 0., 0.],\n",
       "       ...,\n",
       "       [0., 0., 0., ..., 0., 0., 0.],\n",
       "       [1., 0., 1., ..., 0., 0., 0.],\n",
       "       [0., 0., 1., ..., 1., 1., 1.]])"
      ]
     },
     "execution_count": 25,
     "metadata": {},
     "output_type": "execute_result"
    }
   ],
   "source": [
    "i = 0\n",
    "for sentence in data_list:\n",
    "    words_list = re.split('[^a-z]', sentence)\n",
    "    for word in words_dict:\n",
    "        matrix[i][words_dict[word]] = words_list.count(word)\n",
    "    i += 1\n",
    "matrix"
   ]
  },
  {
   "cell_type": "code",
   "execution_count": 21,
   "metadata": {},
   "outputs": [],
   "source": [
    "from scipy.spatial import distance"
   ]
  },
  {
   "cell_type": "code",
   "execution_count": 22,
   "metadata": {},
   "outputs": [
    {
     "name": "stdout",
     "output_type": "stream",
     "text": [
      "[0.0, 0.9527544408738466, 0.8644738145642124, 0.8951715163278082, 0.7770887149698589, 0.9402385695332803, 0.7327387580875756, 0.9258750683338899, 0.8842724875284311, 0.9055088817476932, 0.8328165362273942, 0.8804771390665607, 0.8396432548525454, 0.8703592552895671, 0.8740118423302576, 0.9442721787424647, 0.8406361854220809, 0.956644501523794, 0.9442721787424647, 0.8885443574849294, 0.8427572744917122, 0.8250364469440588]\n"
     ]
    }
   ],
   "source": [
    "distances = []\n",
    "check_item = matrix[0]\n",
    "for i in range(len(matrix)):\n",
    "    item = matrix[i]\n",
    "    dist = distance.cosine(item, check_item)\n",
    "    distances.append(dist)\n",
    "print distances"
   ]
  },
  {
   "cell_type": "code",
   "execution_count": 178,
   "metadata": {},
   "outputs": [
    {
     "data": {
      "text/plain": [
       "0.9527544408738466"
      ]
     },
     "execution_count": 178,
     "metadata": {},
     "output_type": "execute_result"
    }
   ],
   "source": [
    "distances[1]"
   ]
  },
  {
   "cell_type": "code",
   "execution_count": 29,
   "metadata": {},
   "outputs": [],
   "source": [
    "min_dist1 = distances[1]\n",
    "min_dist2 = distances[2]\n",
    "for i in range(3, len(distances)):\n",
    "    if distances[i] < min_dist1:\n",
    "        if min_dist1 < min_dist2:\n",
    "            min_dist2 = min_dist1\n",
    "        min_dist1 = distances[i]\n",
    "    elif distances[i] < min_dist2:\n",
    "        min_dist2 = distances[i]"
   ]
  },
  {
   "cell_type": "code",
   "execution_count": 30,
   "metadata": {},
   "outputs": [
    {
     "data": {
      "text/plain": [
       "(0.7327387580875756, 0.7770887149698589)"
      ]
     },
     "execution_count": 30,
     "metadata": {},
     "output_type": "execute_result"
    }
   ],
   "source": [
    "min_dist1, min_dist2"
   ]
  },
  {
   "cell_type": "code",
   "execution_count": 31,
   "metadata": {},
   "outputs": [
    {
     "data": {
      "text/plain": [
       "6"
      ]
     },
     "execution_count": 31,
     "metadata": {},
     "output_type": "execute_result"
    }
   ],
   "source": [
    "distances.index(min_dist1)"
   ]
  },
  {
   "cell_type": "code",
   "execution_count": 32,
   "metadata": {},
   "outputs": [
    {
     "data": {
      "text/plain": [
       "'6 4'"
      ]
     },
     "execution_count": 32,
     "metadata": {},
     "output_type": "execute_result"
    }
   ],
   "source": [
    "answer = str(distances.index(min_dist1)) + ' ' + str(distances.index(min_dist2))\n",
    "answer"
   ]
  },
  {
   "cell_type": "code",
   "execution_count": 33,
   "metadata": {},
   "outputs": [],
   "source": [
    "file_answer = open('file_answer.txt', 'w')"
   ]
  },
  {
   "cell_type": "code",
   "execution_count": 34,
   "metadata": {},
   "outputs": [],
   "source": [
    "file_answer.write(answer)"
   ]
  },
  {
   "cell_type": "code",
   "execution_count": 35,
   "metadata": {},
   "outputs": [],
   "source": [
    "file_answer.close()"
   ]
  },
  {
   "cell_type": "code",
   "execution_count": null,
   "metadata": {},
   "outputs": [],
   "source": []
  }
 ],
 "metadata": {
  "kernelspec": {
   "display_name": "Python 2",
   "language": "python",
   "name": "python2"
  },
  "language_info": {
   "codemirror_mode": {
    "name": "ipython",
    "version": 2
   },
   "file_extension": ".py",
   "mimetype": "text/x-python",
   "name": "python",
   "nbconvert_exporter": "python",
   "pygments_lexer": "ipython2",
   "version": "2.7.16"
  }
 },
 "nbformat": 4,
 "nbformat_minor": 2
}
